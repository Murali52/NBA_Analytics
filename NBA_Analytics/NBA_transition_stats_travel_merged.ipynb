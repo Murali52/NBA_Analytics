{
 "cells": [
  {
   "cell_type": "markdown",
   "id": "bc28f2ef-2796-4160-8681-c00164e6f049",
   "metadata": {},
   "source": [
    "## NBA CTG (Cleaning the Glass) ingestion for Transition metrics and merging with Travel metrics\n",
    "### https://cleaningtheglass.com/stats/team/2/team#tab-context_trans_offense\n",
    "###\n",
    "### Authored by Murali Balasubramanian, DBA, Walsh College, MI, USA"
   ]
  },
  {
   "cell_type": "code",
   "execution_count": null,
   "id": "ad1c829d-7515-450b-b557-2621dd6528dd",
   "metadata": {},
   "outputs": [],
   "source": [
    "import pandas as pd"
   ]
  },
  {
   "cell_type": "code",
   "execution_count": null,
   "id": "e45f571a-e0ed-46f0-a38f-5561f8fba8a5",
   "metadata": {},
   "outputs": [],
   "source": [
    "df_transition_perc = pd.read_excel('Transition_metric_travel_24_25.xlsx')\n",
    "# Convert to datetime type\n",
    "df_transition_perc['Date'] = pd.to_datetime(df_transition_perc['Date'])\n",
    "#\n",
    "# First sort by Team to group teams together\n",
    "# Then sort by Date within each team group\n",
    "df_transition_perc = df_transition_perc.sort_values(['Team', 'Date'])\n",
    "df_transition_perc.reset_index(inplace=True)"
   ]
  },
  {
   "cell_type": "code",
   "execution_count": null,
   "id": "8967be0b-91ec-4495-a28b-fff3bd9a0c27",
   "metadata": {},
   "outputs": [],
   "source": [
    "def transfer_travel_data(df_transition_perc, df_travel_transition):\n",
    "    \"\"\"\n",
    "    Transfer travel-related data from df_travel_transition to df_transition_perc\n",
    "    based on venue transitions and home/away status.\n",
    "    \"\"\"\n",
    "    # Create a dictionary to store the transferred data for each team\n",
    "    result_data = []\n",
    "    \n",
    "    # Process each team separately\n",
    "    for team in df_transition_perc['Team'].unique():\n",
    "        # Get all rows for current team\n",
    "        team_rows = df_transition_perc[df_transition_perc['Team'] == team].reset_index(drop=True)\n",
    "        \n",
    "        # Process first game of the team\n",
    "        first_row = team_rows.iloc[0]\n",
    "        if first_row['Home/Away'] == 'Home':\n",
    "            # Home game - Team plays at home venue\n",
    "            matching_row = df_travel_transition[\n",
    "                (df_travel_transition['From'] == team) & \n",
    "                (df_travel_transition['To'] == team)\n",
    "            ].iloc[0]\n",
    "        else:\n",
    "            # Away game - Team travels to opponent's venue\n",
    "            matching_row = df_travel_transition[\n",
    "                (df_travel_transition['From'] == team) & \n",
    "                (df_travel_transition['To'] == first_row['Opp'])\n",
    "            ].iloc[0]\n",
    "            \n",
    "        # Add travel data to first row\n",
    "        travel_columns = [\n",
    "            'FlightDist_km', 'FlightTime_hr', 'BusTime_hr', \n",
    "            'TZ_Offset_hr', 'ElevationDelta_ft', 'TotalTravel_hr',\n",
    "            'NonRest_hr', 'AdjustedRest_hr'\n",
    "        ]\n",
    "        result_data.append({\n",
    "            **first_row.to_dict(),\n",
    "            **{col: matching_row[col] for col in travel_columns}\n",
    "        })\n",
    "        \n",
    "        # Process remaining games for the team\n",
    "        for i in range(1, len(team_rows)):\n",
    "            current_row = team_rows.iloc[i]\n",
    "            previous_venue = team_rows.iloc[i-1]['Venue']\n",
    "            current_venue = current_row['Venue']\n",
    "            \n",
    "            # Find matching transition data\n",
    "            matching_row = df_travel_transition[\n",
    "                (df_travel_transition['From'] == previous_venue) & \n",
    "                (df_travel_transition['To'] == current_venue)\n",
    "            ].iloc[0]\n",
    "            \n",
    "            # Add travel data to current row\n",
    "            result_data.append({\n",
    "                **current_row.to_dict(),\n",
    "                **{col: matching_row[col] for col in travel_columns}\n",
    "            })\n",
    "    \n",
    "    # Convert results to DataFrame and return\n",
    "    return pd.DataFrame(result_data)"
   ]
  },
  {
   "cell_type": "code",
   "execution_count": null,
   "id": "a82a8320-b95d-4d4c-9156-8ddb418efa98",
   "metadata": {},
   "outputs": [],
   "source": [
    "merged_df = transfer_travel_data(df_transition_perc, df_travel_transition)"
   ]
  }
 ],
 "metadata": {
  "kernelspec": {
   "display_name": "Python 3 (ipykernel)",
   "language": "python",
   "name": "python3"
  },
  "language_info": {
   "codemirror_mode": {
    "name": "ipython",
    "version": 3
   },
   "file_extension": ".py",
   "mimetype": "text/x-python",
   "name": "python",
   "nbconvert_exporter": "python",
   "pygments_lexer": "ipython3",
   "version": "3.12.7"
  }
 },
 "nbformat": 4,
 "nbformat_minor": 5
}
